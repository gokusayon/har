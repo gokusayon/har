{
 "cells": [
  {
   "cell_type": "code",
   "execution_count": 1,
   "metadata": {},
   "outputs": [],
   "source": [
    "import tensorflow as tf\n",
    "from tensorflow.python.platform import gfile"
   ]
  },
  {
   "cell_type": "code",
   "execution_count": 16,
   "metadata": {},
   "outputs": [],
   "source": [
    "def load_graph(frozen_graph_filename):\n",
    "    # We load the protobuf file from the disk and parse it to retrieve the \n",
    "    # unserialized graph_def\n",
    "    with tf.gfile.GFile(frozen_graph_filename, \"rb\") as f:\n",
    "        graph_def = tf.GraphDef()\n",
    "        graph_def.ParseFromString(f.read())\n",
    "\n",
    "    # Then, we import the graph_def into a new Graph and return it \n",
    "    with tf.Graph().as_default() as graph:\n",
    "        # The name var will prefix every op/nodes in your graph\n",
    "        # Since we load everything in a new graph, this is not needed\n",
    "        tf.import_graph_def(graph_def, name=\"prefix\")\n",
    "    return graph"
   ]
  },
  {
   "cell_type": "code",
   "execution_count": 17,
   "metadata": {},
   "outputs": [],
   "source": [
    "dir_path=\"D:\\ME\\ME_2nd_Year\\ADM\\project\\models\\\\200\\checkpoint\\har_200.pb\""
   ]
  },
  {
   "cell_type": "code",
   "execution_count": 18,
   "metadata": {},
   "outputs": [
    {
     "name": "stdout",
     "output_type": "stream",
     "text": [
      "D:\\ME\\ME_2nd_Year\\ADM\\project\\models\\200\\checkpoint\\har_200.pb\n"
     ]
    }
   ],
   "source": [
    "print(dir_path)"
   ]
  },
  {
   "cell_type": "code",
   "execution_count": 19,
   "metadata": {},
   "outputs": [],
   "source": [
    "graph = load_graph(dir_path)"
   ]
  },
  {
   "cell_type": "code",
   "execution_count": 20,
   "metadata": {},
   "outputs": [
    {
     "name": "stdout",
     "output_type": "stream",
     "text": [
      "prefix/input  :  (<tf.Tensor 'prefix/input:0' shape=(?, 200, 6) dtype=float32>,)\n",
      "prefix/inputs/transpose/perm  :  (<tf.Tensor 'prefix/inputs/transpose/perm:0' shape=(3,) dtype=int32>,)\n",
      "prefix/inputs/transpose  :  (<tf.Tensor 'prefix/inputs/transpose:0' shape=(200, ?, 6) dtype=float32>,)\n",
      "prefix/inputs/Reshape/shape  :  (<tf.Tensor 'prefix/inputs/Reshape/shape:0' shape=(2,) dtype=int32>,)\n",
      "prefix/inputs/Reshape  :  (<tf.Tensor 'prefix/inputs/Reshape:0' shape=(?, 6) dtype=float32>,)\n",
      "prefix/y_  :  (<tf.Tensor 'prefix/y_:0' shape=(?, 6) dtype=float32>,)\n"
     ]
    }
   ],
   "source": [
    "for op in graph.get_operations(): \n",
    "        if \"input\" in op.name or \"y_\" in op.name:\n",
    "            print(op.name, \" : \" ,op.values())"
   ]
  },
  {
   "cell_type": "code",
   "execution_count": 22,
   "metadata": {},
   "outputs": [
    {
     "data": {
      "text/plain": [
       "1386180"
      ]
     },
     "execution_count": 22,
     "metadata": {},
     "output_type": "execute_result"
    }
   ],
   "source": [
    "converter =  tf.lite.TFLiteConverter.from_frozen_graph(dir_path, [\"input\"], [\"y_\"])\n",
    "tflite_model = converter.convert()\n",
    "open(\"D:\\ME\\ME_2nd_Year\\ADM\\project\\models\\\\200\\checkpoint\\\\\"+\"har_200_v1.tflite\", \"wb\").write(tflite_model)"
   ]
  },
  {
   "cell_type": "code",
   "execution_count": null,
   "metadata": {},
   "outputs": [],
   "source": []
  }
 ],
 "metadata": {
  "kernelspec": {
   "display_name": "Python 3",
   "language": "python",
   "name": "python3"
  },
  "language_info": {
   "codemirror_mode": {
    "name": "ipython",
    "version": 3
   },
   "file_extension": ".py",
   "mimetype": "text/x-python",
   "name": "python",
   "nbconvert_exporter": "python",
   "pygments_lexer": "ipython3",
   "version": "3.7.5"
  }
 },
 "nbformat": 4,
 "nbformat_minor": 2
}
